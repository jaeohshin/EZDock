{
 "cells": [
  {
   "cell_type": "markdown",
   "metadata": {},
   "source": [
    "# This notebook is for playing around with OpenEye Toolkits"
   ]
  },
  {
   "cell_type": "code",
   "execution_count": 1,
   "metadata": {},
   "outputs": [],
   "source": [
    "import os\n",
    "os.environ['OE_LICENSE'] = '/home/ian/oe_license.txt'"
   ]
  },
  {
   "cell_type": "markdown",
   "metadata": {},
   "source": [
    "See [this guide](https://docs.eyesopen.com/toolkits/python/oechemtk/molreadwrite.html#chapter-molreadwrite) for more info"
   ]
  },
  {
   "cell_type": "markdown",
   "metadata": {},
   "source": [
    "Listing 1: High-level Molecule I/O using molstreams"
   ]
  },
  {
   "cell_type": "code",
   "execution_count": 1,
   "metadata": {},
   "outputs": [],
   "source": [
    "from openeye import oechem\n",
    "\n",
    "ifs = oechem.oemolistream()\n",
    "ofs = oechem.oemolostream()\n",
    "\n",
    "mol = oechem.OEGraphMol()\n",
    "\n",
    "while oechem.OEReadMolecule(ifs, mol):\n",
    "    oechem.OEWriteMolecule(ofs, mol)"
   ]
  },
  {
   "cell_type": "code",
   "execution_count": null,
   "metadata": {},
   "outputs": [],
   "source": [
    "from openeye import oechem\n",
    "\n",
    "ifs = oechem.oemolistream()\n",
    "ofs = oechem.oemolostream()\n",
    "# Generator methods for reading molecules\n",
    "for mol in ifs.GetOEGraphMols():\n",
    "    oechem.OEWriteMolecule(ofs, mol)"
   ]
  },
  {
   "cell_type": "markdown",
   "metadata": {},
   "source": [
    "Listing 2: Reading molecules into memory"
   ]
  },
  {
   "cell_type": "code",
   "execution_count": null,
   "metadata": {},
   "outputs": [],
   "source": [
    "ifs = oechem.oemolistream()\n",
    "mollist = []\n",
    "\n",
    "for mol in ifs.GetOEGraphMols():\n",
    "    mollist.append(oechem.OEGraphMol(mol))"
   ]
  },
  {
   "cell_type": "markdown",
   "metadata": {},
   "source": [
    "Listing 3: Explicitly setting file formats"
   ]
  },
  {
   "cell_type": "code",
   "execution_count": null,
   "metadata": {},
   "outputs": [],
   "source": [
    "from openeye import oechem\n",
    "\n",
    "ifs = oechem.oemolistream()\n",
    "ofs = oechem.oemolostream()\n",
    "\n",
    "# This will convert from SDF to PDB\n",
    "ifs.SetFormat(oechem.OEFormat_SDF)\n",
    "ofs.SetFormat(oechem.OEFormat_PDB)\n",
    "\n",
    "# There's many OEFormats to choose from: https://docs.eyesopen.com/toolkits/python/oechemtk/OEChemConstants/OEFormat.html#OEChem::OEFormat::PDB\n",
    "\n",
    "for mol in ifs.GetOEGraphMols():\n",
    "    oechem.OEWriteMolecule(ofs, mol)"
   ]
  },
  {
   "cell_type": "markdown",
   "metadata": {},
   "source": [
    "Listing 4: Reading and writing molecule files"
   ]
  },
  {
   "cell_type": "code",
   "execution_count": 2,
   "metadata": {},
   "outputs": [],
   "source": [
    "from openeye import oechem\n",
    "\n",
    "ifs = oechem.oemolistream()\n",
    "ofs = oechem.oemolostream()\n",
    "\n",
    "if ifs.open(\"./molecules_bx_2024_06_18_154410.sdf\"):\n",
    "    if ofs.open(\"molecules_bx_2024_06_18_154410.pdb\"):\n",
    "        for mol in ifs.GetOEGraphMols():\n",
    "            oechem.OEWriteMolecule(ofs, mol)\n",
    "    else:\n",
    "        oechem.OEThrow.Fatal(\"Unable to create 'molecules_bx_2024_06_18_154410.pdb'\")\n",
    "else:\n",
    "    oechem.OEThrow.Fatal(\"Unable to open 'molecules_bx_2024_06_18_154410.sdf'\")"
   ]
  },
  {
   "cell_type": "markdown",
   "metadata": {},
   "source": [
    "Listing 5: Reading and writing molecule from memory buffers"
   ]
  },
  {
   "cell_type": "code",
   "execution_count": null,
   "metadata": {},
   "outputs": [],
   "source": [
    "from openeye import oechem\n",
    "\n",
    "\n",
    "smiles = '''\\\n",
    "CCO\n",
    "c1cnccc1'''\n",
    "\n",
    "ims = oechem.oemolistream()\n",
    "ims.SetFormat(oechem.OEFormat_SMI)\n",
    "ims.openstring(smiles)\n",
    "\n",
    "mols = []\n",
    "mol = oechem.OEMol()\n",
    "for mol in ims.GetOEMols():\n",
    "    mols.append(oechem.OEMol(mol))\n",
    "\n",
    "oms = oechem.oemolostream()\n",
    "oms.SetFormat(oechem.OEFormat_SDF)\n",
    "oms.openstring()\n",
    "\n",
    "for mol in mols:\n",
    "    oechem.OEWriteMolecule(oms, mol)\n",
    "\n",
    "molfile = oms.GetString()\n",
    "print(\"MOL string\\n\", molfile.decode('UTF-8'))"
   ]
  },
  {
   "cell_type": "markdown",
   "metadata": {},
   "source": [
    "Listing 6: Reading and writing compressed molecule files"
   ]
  },
  {
   "cell_type": "code",
   "execution_count": null,
   "metadata": {},
   "outputs": [],
   "source": [
    "from openeye import oechem\n",
    "\n",
    "# example files - these don't exist!\n",
    "ifs = oechem.oemolistream(\"input.sdf.gz\")\n",
    "ofs = oechem.oemolostream(\"output.oeb.gz\")\n",
    "\n",
    "for mol in ifs.GetOEGraphMols():\n",
    "    oechem.OEWriteMolecule(ofs, mol)"
   ]
  },
  {
   "cell_type": "markdown",
   "metadata": {},
   "source": [
    "# Command Line Format Control\n",
    "Using the methods outlined above, it is possible to allow the stream format to be controlled from the command line. OEChem TK’s oemolstreams control the format by interpreting the input and output file names.\n",
    "\n",
    "**Listing 7: Controlling File Format from the Command Line**"
   ]
  },
  {
   "cell_type": "code",
   "execution_count": null,
   "metadata": {},
   "outputs": [],
   "source": [
    "from openeye import oechem\n",
    "import sys\n",
    "\n",
    "if len(sys.argv) != 3:\n",
    "    oechem.OEThrow.Usage(\"%s <input> <output>\" % sys.argv[0])\n",
    "\n",
    "ifs = oechem.oemolistream()\n",
    "ofs = oechem.oemolostream()\n",
    "\n",
    "if not ifs.open(sys.argv[1]):\n",
    "    oechem.OEThrow.Fatal(\"Unable to open %s\" % sys.argv[1])\n",
    "\n",
    "if not ofs.open(sys.argv[2]):\n",
    "    oechem.OEThrow.Fatal(\"Unable to create %s\" % sys.argv[2])\n",
    "\n",
    "for mol in ifs.GetOEGraphMols():\n",
    "    oechem.OEWriteMolecule(ofs, mol)"
   ]
  },
  {
   "cell_type": "markdown",
   "metadata": {},
   "source": [
    "Listing 8: Controlling standard in and standard out File Format"
   ]
  },
  {
   "cell_type": "code",
   "execution_count": null,
   "metadata": {},
   "outputs": [],
   "source": [
    "from openeye import oechem\n",
    "\n",
    "ifs = oechem.oemolistream(\".sdf\")\n",
    "ofs = oechem.oemolostream(\".mol2\")\n",
    "\n",
    "for mol in ifs.GetOEGraphMols():\n",
    "    oechem.OEWriteMolecule(ofs, mol)"
   ]
  },
  {
   "cell_type": "markdown",
   "metadata": {},
   "source": [
    "The `oemolstreambase.SetFlavor` method takes two unsigned integer arguments, the first is the format for which the flavor is being specified and the second is the flavor itself. The formats are specified as discussed in [File Formats](https://docs.eyesopen.com/toolkits/python/oechemtk/molreadwrite.html#section-molreadwrite-fileformats). The input flavors are specified in the `OEIFlavor` namespace and the output flavors are specified in the `OEOFlavor` namespace. Unlike the formats, the flavors are a bitmask and may be binary OR’d together. Under the `OEIFlavor` and `OEOFlavor` namespaces, there is a namespace for each format as well as a `OEIFlavor_Generic` namespace. The `OEOFlavor_Generic` namespace is used to control aromaticity perception and other properties common to all formats. To completely specify a flavor, one would typically binary-OR a `OEOFlavor_Generic` flag and a format specific flag and pass the resultant value to `oemolstreambase.SetFlavor`.\n",
    "The default behavior for the `PDB reader` is that `TER` specifies the termination of a disconnected fragment within the same molecule while `END` specifies the termination of a connection table. However, some users may want to have the reader split `PDB` input files into different molecules every time a `TER` appears.\n",
    "\n",
    "The following code is an example of changing the `PDB` reader flavor."
   ]
  },
  {
   "cell_type": "markdown",
   "metadata": {},
   "source": [
    "Listing 9: Changing oemolistream Reader Flavor"
   ]
  },
  {
   "cell_type": "code",
   "execution_count": null,
   "metadata": {},
   "outputs": [],
   "source": [
    "from openeye import oechem\n",
    "\n",
    "ifs = oechem.oemolistream('input.pdb')\n",
    "ofs = oechem.oemolostream('output.mol2')\n",
    "\n",
    "flavor = oechem.OEIFlavor_Generic_Default | oechem.OEIFlavor_PDB_Default | oechem.OEIFlavor_PDB_TER\n",
    "ifs.SetFlavor(oechem.OEFormat_PDB, flavor)\n",
    "\n",
    "for mol in ifs.GetOEGraphMols():\n",
    "    oechem.OEWriteMolecule(ofs, mol)"
   ]
  },
  {
   "cell_type": "markdown",
   "metadata": {},
   "source": [
    "# Documentations for OEDock\n",
    "See [here](https://docs.eyesopen.com/toolkits/python/dockingtk/theory/docking.html#chapter-docking) for more"
   ]
  },
  {
   "cell_type": "markdown",
   "metadata": {},
   "source": [
    "# Initialization\n",
    "An OEDock object must be initialized with a receptor object, prior to docking, scoring or annotating any molecules. This is done by passing a `OEDesignUnit` containing a receptor (see Receptors) to the `OEDock.`Initialize method."
   ]
  },
  {
   "cell_type": "markdown",
   "metadata": {},
   "source": [
    "`OEDesignUnit` derives from the [`OEBase` class](https://docs.eyesopen.com/toolkits/python/oechemtk/OESystemClasses/OEBase.html#OESystem::OEBase)\n",
    "The abstract class OEBase defines the interface for run-time class extensibility and run-time type identification. Classes which derive from OEBase can store and retrieve data by association with integer or character string ‘tag’ identifiers."
   ]
  },
  {
   "cell_type": "markdown",
   "metadata": {},
   "source": [
    "OEGraphMol: https://docs.eyesopen.com/toolkits/python/oechemtk/molctordtor.html#chapter-molctordtor"
   ]
  },
  {
   "cell_type": "markdown",
   "metadata": {},
   "source": [
    "Create a molecule"
   ]
  },
  {
   "cell_type": "code",
   "execution_count": null,
   "metadata": {},
   "outputs": [],
   "source": [
    "from openeye import oechem\n",
    "\n",
    "mol = oechem.OEGraphMol()"
   ]
  },
  {
   "cell_type": "markdown",
   "metadata": {},
   "source": [
    "Destroy a molecule"
   ]
  },
  {
   "cell_type": "code",
   "execution_count": null,
   "metadata": {},
   "outputs": [],
   "source": [
    "from openeye import oechem\n",
    "\n",
    "mol = oechem.OEGraphMol()\n",
    "del mol"
   ]
  },
  {
   "cell_type": "markdown",
   "metadata": {},
   "source": [
    "Creating a molecule from a SMILES string"
   ]
  },
  {
   "cell_type": "code",
   "execution_count": null,
   "metadata": {},
   "outputs": [],
   "source": [
    "from openeye import oechem\n",
    "\n",
    "# create a new molecule\n",
    "mol = oechem.OEGraphMol()\n",
    "\n",
    "# convert the SMILES string into a molecule\n",
    "oechem.OESmilesToMol(mol, \"c1ccccc1\")"
   ]
  },
  {
   "cell_type": "markdown",
   "metadata": {},
   "source": [
    "# Splitting Macromolecular Complexes (this method so far works the best, could use this as a second choice for ligand extraction)\n",
    "See [here](https://docs.eyesopen.com/toolkits/python/oechemtk/proteinprep.html#splitting-macromolecular-complexes)\n",
    "Listing 8: Splitting an Input Molecule"
   ]
  },
  {
   "cell_type": "code",
   "execution_count": 12,
   "metadata": {},
   "outputs": [],
   "source": [
    "import openeye.oechem as oechem\n",
    "\n",
    "# Function to read a molecular complex/ligand/protein from a file\n",
    "def read_molecule(filename):\n",
    "    ifs = oechem.oemolistream()\n",
    "    if not ifs.open(filename):\n",
    "        oechem.OEThrow.Fatal(\"Unable to open file %s\" % filename)\n",
    "    mol = oechem.OEGraphMol()\n",
    "    oechem.OEReadMolecule(ifs, mol)\n",
    "    ifs.close()\n",
    "    return mol\n",
    "\n",
    "# Function to split the complex into its components\n",
    "def split_molecular_complex(mol):\n",
    "    protein = oechem.OEGraphMol()\n",
    "    ligand = oechem.OEGraphMol()\n",
    "    water = oechem.OEGraphMol()\n",
    "    other = oechem.OEGraphMol()\n",
    "\n",
    "    # Split the complex\n",
    "    oechem.OESplitMolComplex(ligand, protein, water, other, mol)\n",
    "\n",
    "    return protein, ligand, water, other\n",
    "\n",
    "def oe_split_complex(input_filename, output_basename):\n",
    "    # Read the complex\n",
    "    complex_molecule = read_molecule(input_filename)\n",
    "\n",
    "    # Split the complex\n",
    "    protein, ligand, water, other = split_molecular_complex(complex_molecule)\n",
    "\n",
    "    # Write the components to files\n",
    "    oechem.OEWriteMolecule(oechem.oemolostream(output_basename + \"_protein.pdb\"), protein)\n",
    "    oechem.OEWriteMolecule(oechem.oemolostream(output_basename + \"_ligand.pdb\"), ligand)\n",
    "    oechem.OEWriteMolecule(oechem.oemolostream(output_basename + \"_water.pdb\"), water)\n",
    "    oechem.OEWriteMolecule(oechem.oemolostream(output_basename + \"_other.pdb\"), other)\n",
    "\n",
    "# Example usage\n",
    "input_filename = \"./Mpro-x0072_0.pdb\"  # Replace with your file path\n",
    "output_basename = \"./Mpro-x0072_0\"  # Replace with your desired output file basename\n",
    "oe_split_complex(input_filename, output_basename)"
   ]
  },
  {
   "cell_type": "markdown",
   "metadata": {},
   "source": [
    "# Prepping a ligand/protein for docking (it is better to use Obabel for prepping ligands!)"
   ]
  },
  {
   "cell_type": "code",
   "execution_count": 14,
   "metadata": {},
   "outputs": [],
   "source": [
    "import openeye.oechem as oechem\n",
    "\n",
    "# Function to write the prepared ligand to a file\n",
    "def write_molecule(molecule, output_filename):\n",
    "    ofs = oechem.oemolostream()\n",
    "    if not ofs.open(output_filename):\n",
    "        oechem.OEThrow.Fatal(\"Unable to open file %s\" % output_filename)\n",
    "    oechem.OEWriteMolecule(ofs, molecule)\n",
    "    ofs.close()\n",
    "\n",
    "# Main function\n",
    "def oe_prepare_ligand(input_filename, output_filename):\n",
    "    # Read the ligand\n",
    "    ligand = read_molecule(input_filename)\n",
    "\n",
    "    # Add hydrogens\n",
    "    oechem.OEPlaceHydrogens(ligand)\n",
    "\n",
    "    # Write the prepared ligand\n",
    "    write_molecule(ligand, output_filename)\n",
    "\n",
    "# Example usage\n",
    "input_filename = \"molecules_bx_2024_06_18_154410.sdf\"  # Replace with your input file path\n",
    "output_filename = \"molecules_bx_2024_06_18_154410_with_hydrogens.pdb\"  # Replace with your output file path\n",
    "oe_prepare_ligand(input_filename, output_filename)"
   ]
  },
  {
   "cell_type": "code",
   "execution_count": 17,
   "metadata": {},
   "outputs": [],
   "source": [
    "# the same function could be used for prepping proteins\n",
    "input_protein = \"Mpro-x0072_0_protein.pdb\"\n",
    "output_protein = \"Mpro-x0072_0_protein_with_hydrogens.pdb\"\n",
    "oe_prepare_ligand(input_protein, output_protein)"
   ]
  },
  {
   "cell_type": "code",
   "execution_count": 21,
   "metadata": {},
   "outputs": [
    {
     "name": "stderr",
     "output_type": "stream",
     "text": [
      "DPI: 0.12, RFree: 0.23, Resolution: 1.65\n",
      "Processing BU # 1 with title: ---, chains AB, alt: A\n",
      "Warning: OEPlaceHydrogens: mol DesignUnit Components has heavy atoms ' O   HOH 231 A B 1  ' and ' O   HOH 231 B B 1  ' too close 0.11 < 0.5A\n",
      "Warning: Unable to add protons to DesignUnit: ---(AB)altA__DU__biounit\n",
      "Warning: Due to lack of protons, unable to add partial charges and radii to DesignUnit: ---(AB)altA__DU__biounit\n",
      "Processing BU # 2 with title: ---, chains AB, alt: B\n",
      "Warning: OEPlaceHydrogens: mol DesignUnit Components has heavy atoms ' O   HOH 231 A B 1  ' and ' O   HOH 231 B B 1  ' too close 0.11 < 0.5A\n",
      "Warning: Unable to add protons to DesignUnit: ---(AB)altB__DU__biounit\n",
      "Warning: Due to lack of protons, unable to add partial charges and radii to DesignUnit: ---(AB)altB__DU__biounit\n",
      "Warning: Hydrogens have not been placed, can not add OEInteractionHints\n",
      "Warning: Unable to add interactions to Design Unit: ---(AB)altA > LIG(A-1101)\n",
      "Warning: Hydrogens have not been placed, can not add OEInteractionHints\n",
      "Warning: Unable to add interactions to Design Unit: ---(AB)altA > LIG(B-1101)\n",
      "Warning: Hydrogens have not been placed, can not add OEInteractionHints\n",
      "Warning: Unable to add interactions to Design Unit: ---(AB)altB > LIG(A-1101)\n",
      "Warning: Hydrogens have not been placed, can not add OEInteractionHints\n",
      "Warning: Unable to add interactions to Design Unit: ---(AB)altB > LIG(B-1101)\n",
      "Skipping redundant DU with alts outside the site of interest, renaming existing to collapse alts\n",
      "Discarding redundant alt DU with title ---(AB)altB > LIG(A-1101)\n",
      "Skipping redundant DU with alts outside the site of interest, renaming existing to collapse alts\n",
      "Discarding redundant alt DU with title ---(AB)altB > LIG(B-1101)\n",
      "Warning: Could not find alignment that matches constraints, try again without constraints\n",
      "Superposition - RMSD: 0.00, Ref: , Fit: , SeqScore: 3102\n"
     ]
    },
    {
     "data": {
      "text/plain": [
       "0"
      ]
     },
     "execution_count": 21,
     "metadata": {},
     "output_type": "execute_result"
    }
   ],
   "source": [
    "os.system(\"python3 ./OpenEye/make_design_units.py Mpro-x0072_0.pdb\")"
   ]
  },
  {
   "cell_type": "markdown",
   "metadata": {},
   "source": [
    "# Reading a Design Unit \n",
    "See [here](https://docs.eyesopen.com/toolkits/python/oechemtk/OEBioFunctions/OEReadDesignUnit.html#OEBio::OEReadDesignUnit)"
   ]
  },
  {
   "cell_type": "code",
   "execution_count": 28,
   "metadata": {},
   "outputs": [
    {
     "data": {
      "text/plain": [
       "True"
      ]
     },
     "execution_count": 28,
     "metadata": {},
     "output_type": "execute_result"
    }
   ],
   "source": [
    "from openeye import oechem\n",
    "du = oechem.OEDesignUnit()\n",
    "oechem.OEReadDesignUnit('Mpro-x0072_0_DU_0_receptor.oedu', du)"
   ]
  },
  {
   "cell_type": "code",
   "execution_count": null,
   "metadata": {},
   "outputs": [],
   "source": [
    "# make design units for complexes\n",
    "!python ./OpenEye/make_design_units.py \"./Mpro-x0072_0.pdb\""
   ]
  },
  {
   "cell_type": "markdown",
   "metadata": {},
   "source": [
    "# Docking Protocol\n",
    "See [here](https://docs.eyesopen.com/toolkits/python/dockingtk/theory/docking.html#chapter-docking) for a guide\n",
    "\n",
    "## Initialization\n",
    "An OEDock object must be initialized with a receptor object, prior to docking, scoring or annotating any molecules. This is done by passing a OEDesignUnit containing a receptor (see Receptors) to the OEDock.Initialize method."
   ]
  },
  {
   "cell_type": "code",
   "execution_count": null,
   "metadata": {},
   "outputs": [],
   "source": [
    "!python ./OpenEye/MakeReceptor.py -in ./Mpro-x0072_0_DU_0.oedu -out Mpro-x0072_0_DU_0_receptor.oedu"
   ]
  },
  {
   "cell_type": "code",
   "execution_count": 50,
   "metadata": {},
   "outputs": [
    {
     "data": {
      "text/plain": [
       "False"
      ]
     },
     "execution_count": 50,
     "metadata": {},
     "output_type": "execute_result"
    }
   ],
   "source": [
    "# Import necessary OpenEye modules\n",
    "from openeye.oechem import *\n",
    "from openeye.oeomega import *\n",
    "from openeye.oedocking import *\n",
    "\n",
    "# Initialize OEChem\n",
    "# oechem.OEThrow.SetLevel(OEErrorLevel.Warning)\n",
    "# oechem.OEThrow.SetOutputStream(OEFixedAtomHydrogenHandling)\n",
    "# oedocking.OEDock.SetVerbose(True)\n",
    "\n",
    "# Load receptor from a file\n",
    "receptor_filename = \"Mpro-x0072_0_DU_0_receptor.oedu\"\n",
    "# receptor = OEGraphMol()\n",
    "# if not oemolistream(receptor_filename, receptor):\n",
    "#     raise RuntimeError(f\"Unable to open receptor file: {receptor_filename}\")\n",
    "\n",
    "# Initialize the docking\n",
    "dock = OEDock()\n",
    "dock.Initialize(receptor)\n",
    "dock.IsInitialized()\n",
    "# Save the initialized receptor if needed\n",
    "# initialized_receptor_filename = \"initialized_receptor.oedu\"\n",
    "# ofs = oemolostream(initialized_receptor_filename)\n",
    "# oechem.OEWriteMolecule(ofs, receptor)\n",
    "# ofs.close()\n",
    "\n",
    "# print(\"Receptor initialized for docking successfully.\")\n"
   ]
  },
  {
   "cell_type": "code",
   "execution_count": null,
   "metadata": {},
   "outputs": [
    {
     "data": {
      "text/plain": [
       "<openeye.oechem.OEDesignUnit; proxy of <Swig Object of type 'std::vector< OEBio::OEDesignUnit * >::value_type' at 0x72b29c409a10> >"
      ]
     },
     "metadata": {},
     "output_type": "display_data"
    }
   ],
   "source": []
  },
  {
   "cell_type": "code",
   "execution_count": 33,
   "metadata": {},
   "outputs": [
    {
     "ename": "NameError",
     "evalue": "name 'OEDock' is not defined",
     "output_type": "error",
     "traceback": [
      "\u001b[0;31m---------------------------------------------------------------------------\u001b[0m",
      "\u001b[0;31mNameError\u001b[0m                                 Traceback (most recent call last)",
      "Cell \u001b[0;32mIn[33], line 3\u001b[0m\n\u001b[1;32m      1\u001b[0m receptor_du \u001b[38;5;241m=\u001b[39m oechem\u001b[38;5;241m.\u001b[39mOEDesignUnit()\n\u001b[1;32m      2\u001b[0m oechem\u001b[38;5;241m.\u001b[39mOEReadDesignUnit(\u001b[38;5;124m'\u001b[39m\u001b[38;5;124mMpro-x0072_0_DU_0_receptor.oedu\u001b[39m\u001b[38;5;124m'\u001b[39m, receptor_du)\n\u001b[0;32m----> 3\u001b[0m \u001b[43mOEDock\u001b[49m(receptor_du)\n\u001b[1;32m      4\u001b[0m \u001b[38;5;66;03m# Initialize()\u001b[39;00m\n",
      "\u001b[0;31mNameError\u001b[0m: name 'OEDock' is not defined"
     ]
    }
   ],
   "source": [
    "receptor_du = oechem.OEDesignUnit()\n",
    "oechem.OEReadDesignUnit('Mpro-x0072_0_DU_0_receptor.oedu', receptor_du)\n",
    "OEDock(receptor_du)\n",
    "# Initialize()"
   ]
  },
  {
   "cell_type": "markdown",
   "metadata": {},
   "source": [
    "## Docking Molecules\n",
    "Once the OEDock object has been initialized molecules are docked using the OEDock.DockMultiConformerMolecule method.\n",
    "\n",
    "Docking requires a multiconformer representation of the molecule as input. Docking selects the top scoring docked pose from the provided ensemble of conformers. The score of the docked molecule can be obtained by calling the OEMolBase.GetEnergy method of pose.\n",
    "\n",
    "OEDock can also return alternate as well as top scoring poses of the docked molecule."
   ]
  },
  {
   "cell_type": "code",
   "execution_count": 54,
   "metadata": {},
   "outputs": [
    {
     "name": "stdout",
     "output_type": "stream",
     "text": [
      "Molecule 1 docking score: 0.00\n",
      "Molecule 2 docking score: 0.00\n",
      "Molecule 3 docking score: 0.00\n",
      "Molecule 4 docking score: 0.00\n",
      "Molecule 5 docking score: 0.00\n",
      "Molecule 6 docking score: 0.00\n",
      "Molecule 7 docking score: 0.00\n",
      "Molecule 8 docking score: 0.00\n",
      "Molecule 9 docking score: 0.00\n",
      "Molecule 10 docking score: 0.00\n",
      "Molecule 11 docking score: 0.00\n",
      "Molecule 12 docking score: 0.00\n",
      "Molecule 13 docking score: 0.00\n",
      "Molecule 14 docking score: 0.00\n",
      "Docking scores retrieved successfully.\n"
     ]
    }
   ],
   "source": [
    "# Import necessary OpenEye modules\n",
    "from openeye.oechem import *\n",
    "from openeye.oedocking import *\n",
    "\n",
    "# Initialize OEChem\n",
    "# oechem.OEThrow.SetLevel(OEErrorLevel.Warning)\n",
    "\n",
    "# Load docked molecules from a file\n",
    "docked_molecules_filename = \"molecules_bx_2024_06_18_154410.sdf\"\n",
    "ifs = oemolistream(docked_molecules_filename)\n",
    "docked_molecules = []\n",
    "for mol in ifs.GetOEGraphMols():\n",
    "    docked_molecules.append(OEGraphMol(mol))\n",
    "\n",
    "ifs.close()\n",
    "\n",
    "# Retrieve and print the docking score for each molecule\n",
    "for i, mol in enumerate(docked_molecules):\n",
    "    docking_score = mol.GetEnergy()\n",
    "    print(f\"Molecule {i+1} docking score: {docking_score:.2f}\")\n",
    "\n",
    "print(\"Docking scores retrieved successfully.\")\n"
   ]
  },
  {
   "cell_type": "code",
   "execution_count": null,
   "metadata": {},
   "outputs": [],
   "source": []
  }
 ],
 "metadata": {
  "kernelspec": {
   "display_name": "Python 3",
   "language": "python",
   "name": "python3"
  },
  "language_info": {
   "codemirror_mode": {
    "name": "ipython",
    "version": 3
   },
   "file_extension": ".py",
   "mimetype": "text/x-python",
   "name": "python",
   "nbconvert_exporter": "python",
   "pygments_lexer": "ipython3",
   "version": "3.10.14"
  }
 },
 "nbformat": 4,
 "nbformat_minor": 2
}
