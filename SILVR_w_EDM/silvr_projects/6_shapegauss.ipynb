{
 "cells": [
  {
   "cell_type": "markdown",
   "id": "f9cace38",
   "metadata": {},
   "source": [
    "<div class=\"alert alert-block alert-danger\"> This notebook must be run in an OpenEye environment and requires and OpenEye licence file. </div>"
   ]
  },
  {
   "cell_type": "markdown",
   "id": "d73e6cd1",
   "metadata": {},
   "source": [
    "# This notebook runs shapegauss scoring using openeye - this notebook must be run in the oepython environment. "
   ]
  },
  {
   "cell_type": "code",
   "execution_count": 1,
   "id": "1ff06dc0",
   "metadata": {},
   "outputs": [],
   "source": [
    "# SILVR + EDM, fragments 0072 + 0107\n",
    "experiment_names = ['exp_9','exp_10','exp_11','exp_12','exp_13','exp_14','exp_15']\n",
    "\n",
    "\n",
    "# BRIDGE + EDM, fragments 0072 + 0107\n",
    "# experiment_names = ['exp_16','exp_17','exp_18','exp_19','exp_20','exp_21','exp_22']\n",
    "\n",
    "# BRIDGE + EDM, fragments 0072 + 0107 (250 SAMPLES)\n",
    "# experiment_names = ['exp_23','exp_24','exp_25','exp_26','exp_27','exp_28','exp_29']\n",
    "\n",
    "# BRIDGE + EDM, fragments 0072 + 0107 (Explicit Hydrogens)\n",
    "# experiment_names = ['exp_30','exp_31','exp_32','exp_33','exp_34','exp_35','exp_36']\n",
    "\n",
    "# BRIDGE + EDM, NDM-1 fragments B + C (Explicit Hydrogens)\n",
    "# experiment_names = ['exp_37','exp_38','exp_39','exp_40','exp_41','exp_42','exp_43']\n",
    "\n",
    "#TODO: Fix inconsistent naming of variables\n",
    "exp_names = experiment_names\n",
    "exp_list = [f\"experiments/{x}\" for x in exp_names]"
   ]
  },
  {
   "cell_type": "code",
   "execution_count": 2,
   "id": "db65dd61",
   "metadata": {},
   "outputs": [],
   "source": [
    "import os\n",
    "import glob\n",
    "import openeye\n",
    "import tqdm\n",
    "# make sure to set the OE_LICENSE environment variable, the full path should be included, or else openeye will kill your kernel!\n",
    "os.environ['OE_LICENSE'] = '/home/ian/oe_license.txt'\n",
    "os.chmod('/home/ian/oe_license.txt', 0o755)"
   ]
  },
  {
   "cell_type": "code",
   "execution_count": 3,
   "id": "4ec6b7cd",
   "metadata": {},
   "outputs": [
    {
     "name": "stdout",
     "output_type": "stream",
     "text": [
      "scoreType:  0\n",
      "score:  <oedocking.OEScore; proxy of <Swig Object of type 'OEDocking::OEScore *' at 0x70817337c210> >\n",
      "scoreType:  0\n",
      "score:  <oedocking.OEScore; proxy of <Swig Object of type 'OEDocking::OEScore *' at 0x7faafccbc210> >\n"
     ]
    },
    {
     "name": "stderr",
     "output_type": "stream",
     "text": [
      "Warning: OE3DToAtomStereo is unable to perceive atom stereo from a flat geometry on atom 18 of molecule 'stable:False satoms:41 tatoms:54 sratio:0.7592592592592593'\n",
      "Warning: OE3DToAtomStereo had a problem during OEWriteMolecule when writing 'stable:False satoms:41 tatoms:54 sratio:0.7592592592592593'\n"
     ]
    },
    {
     "name": "stdout",
     "output_type": "stream",
     "text": [
      "scoreType:  0\n",
      "score:  <oedocking.OEScore; proxy of <Swig Object of type 'OEDocking::OEScore *' at 0x7650c997c210> >\n",
      "scoreType:  0\n",
      "score:  <oedocking.OEScore; proxy of <Swig Object of type 'OEDocking::OEScore *' at 0x766d1917c210> >\n",
      "scoreType:  0\n",
      "score:  <oedocking.OEScore; proxy of <Swig Object of type 'OEDocking::OEScore *' at 0x72ca116c4210> >\n",
      "scoreType:  0\n",
      "score:  <oedocking.OEScore; proxy of <Swig Object of type 'OEDocking::OEScore *' at 0x7a113077c210> >\n"
     ]
    },
    {
     "name": "stderr",
     "output_type": "stream",
     "text": [
      "Warning: OE3DToAtomStereo is unable to perceive atom stereo from a flat geometry on atom 9 of molecule 'stable:False satoms:43 tatoms:54 sratio:0.7962962962962963'\n",
      "Warning: OE3DToAtomStereo is unable to perceive atom stereo from a flat geometry on atom 16 of molecule 'stable:False satoms:43 tatoms:54 sratio:0.7962962962962963'\n",
      "Warning: OE3DToAtomStereo is unable to perceive atom stereo from a flat geometry on atom 21 of molecule 'stable:False satoms:43 tatoms:54 sratio:0.7962962962962963'\n",
      "Warning: OE3DToAtomStereo is unable to perceive atom stereo from a flat geometry on atom 48 of molecule 'stable:False satoms:43 tatoms:54 sratio:0.7962962962962963'\n",
      "Warning: OE3DToAtomStereo had a problem during OEWriteMolecule when writing 'stable:False satoms:43 tatoms:54 sratio:0.7962962962962963'\n"
     ]
    },
    {
     "name": "stdout",
     "output_type": "stream",
     "text": [
      "scoreType:  0\n",
      "score:  <oedocking.OEScore; proxy of <Swig Object of type 'OEDocking::OEScore *' at 0x71c57557c210> >\n"
     ]
    },
    {
     "name": "stderr",
     "output_type": "stream",
     "text": [
      "Warning: OE3DToAtomStereo is unable to perceive atom stereo from a flat geometry on atom 29 of molecule 'stable:False satoms:41 tatoms:54 sratio:0.7592592592592593'\n",
      "Warning: OE3DToAtomStereo had a problem during OEWriteMolecule when writing 'stable:False satoms:41 tatoms:54 sratio:0.7592592592592593'\n"
     ]
    },
    {
     "name": "stdout",
     "output_type": "stream",
     "text": [
      "scoreType:  0\n",
      "score:  <oedocking.OEScore; proxy of <Swig Object of type 'OEDocking::OEScore *' at 0x787cd1578210> >\n"
     ]
    },
    {
     "name": "stderr",
     "output_type": "stream",
     "text": [
      "Warning: OE3DToAtomStereo is unable to perceive atom stereo from a flat geometry on atom 23 of molecule 'stable:False satoms:49 tatoms:54 sratio:0.9074074074074074'\n",
      "Warning: OE3DToAtomStereo is unable to perceive atom stereo from a flat geometry on atom 46 of molecule 'stable:False satoms:49 tatoms:54 sratio:0.9074074074074074'\n",
      "Warning: OE3DToAtomStereo had a problem during OEWriteMolecule when writing 'stable:False satoms:49 tatoms:54 sratio:0.9074074074074074'\n"
     ]
    },
    {
     "name": "stdout",
     "output_type": "stream",
     "text": [
      "scoreType:  0\n",
      "score:  <oedocking.OEScore; proxy of <Swig Object of type 'OEDocking::OEScore *' at 0x7fa7d1b7c210> >\n"
     ]
    },
    {
     "name": "stderr",
     "output_type": "stream",
     "text": [
      "Warning: OE3DToAtomStereo is unable to perceive atom stereo from a flat geometry on atom 10 of molecule 'stable:False satoms:47 tatoms:54 sratio:0.8703703703703703'\n",
      "Warning: OE3DToAtomStereo is unable to perceive atom stereo from a flat geometry on atom 38 of molecule 'stable:False satoms:47 tatoms:54 sratio:0.8703703703703703'\n",
      "Warning: OE3DToAtomStereo is unable to perceive atom stereo from a flat geometry on atom 47 of molecule 'stable:False satoms:47 tatoms:54 sratio:0.8703703703703703'\n",
      "Warning: OE3DToAtomStereo had a problem during OEWriteMolecule when writing 'stable:False satoms:47 tatoms:54 sratio:0.8703703703703703'\n"
     ]
    },
    {
     "name": "stdout",
     "output_type": "stream",
     "text": [
      "scoreType:  0\n",
      "score:  <oedocking.OEScore; proxy of <Swig Object of type 'OEDocking::OEScore *' at 0x7a843c17c210> >\n"
     ]
    },
    {
     "name": "stderr",
     "output_type": "stream",
     "text": [
      "Warning: OE3DToAtomStereo is unable to perceive atom stereo from a flat geometry on atom 47 of molecule 'stable:False satoms:45 tatoms:54 sratio:0.8333333333333334'\n",
      "Warning: OE3DToAtomStereo had a problem during OEWriteMolecule when writing 'stable:False satoms:45 tatoms:54 sratio:0.8333333333333334'\n"
     ]
    },
    {
     "name": "stdout",
     "output_type": "stream",
     "text": [
      "scoreType:  0\n",
      "score:  <oedocking.OEScore; proxy of <Swig Object of type 'OEDocking::OEScore *' at 0x7c18a337c210> >\n"
     ]
    },
    {
     "name": "stderr",
     "output_type": "stream",
     "text": [
      "Warning: OE3DToAtomStereo is unable to perceive atom stereo from a flat geometry on atom 38 of molecule 'stable:False satoms:43 tatoms:54 sratio:0.7962962962962963'\n",
      "Warning: OE3DToAtomStereo had a problem during OEWriteMolecule when writing 'stable:False satoms:43 tatoms:54 sratio:0.7962962962962963'\n"
     ]
    },
    {
     "name": "stdout",
     "output_type": "stream",
     "text": [
      "scoreType:  0\n",
      "score:  <oedocking.OEScore; proxy of <Swig Object of type 'OEDocking::OEScore *' at 0x760c7c17c210> >\n"
     ]
    },
    {
     "name": "stderr",
     "output_type": "stream",
     "text": [
      "Warning: OE3DToAtomStereo is unable to perceive atom stereo from a flat geometry on atom 29 of molecule 'stable:False satoms:47 tatoms:54 sratio:0.8703703703703703'\n",
      "Warning: OE3DToAtomStereo is unable to perceive atom stereo from a flat geometry on atom 37 of molecule 'stable:False satoms:47 tatoms:54 sratio:0.8703703703703703'\n",
      "Warning: OE3DToAtomStereo had a problem during OEWriteMolecule when writing 'stable:False satoms:47 tatoms:54 sratio:0.8703703703703703'\n"
     ]
    },
    {
     "name": "stdout",
     "output_type": "stream",
     "text": [
      "scoreType:  0\n",
      "score:  <oedocking.OEScore; proxy of <Swig Object of type 'OEDocking::OEScore *' at 0x70697a4bc210> >\n"
     ]
    },
    {
     "name": "stderr",
     "output_type": "stream",
     "text": [
      "Warning: OE3DToAtomStereo is unable to perceive atom stereo from a flat geometry on atom 2 of molecule 'stable:False satoms:44 tatoms:54 sratio:0.8148148148148148'\n",
      "Warning: OE3DToAtomStereo is unable to perceive atom stereo from a flat geometry on atom 50 of molecule 'stable:False satoms:44 tatoms:54 sratio:0.8148148148148148'\n",
      "Warning: OE3DToAtomStereo had a problem during OEWriteMolecule when writing 'stable:False satoms:44 tatoms:54 sratio:0.8148148148148148'\n"
     ]
    },
    {
     "name": "stdout",
     "output_type": "stream",
     "text": [
      "scoreType:  0\n",
      "score:  <oedocking.OEScore; proxy of <Swig Object of type 'OEDocking::OEScore *' at 0x7816880bc210> >\n",
      "scoreType:  0\n",
      "score:  <oedocking.OEScore; proxy of <Swig Object of type 'OEDocking::OEScore *' at 0x73b40cabc210> >\n",
      "scoreType:  0\n",
      "score:  <oedocking.OEScore; proxy of <Swig Object of type 'OEDocking::OEScore *' at 0x76e3ca2bc210> >\n",
      "scoreType:  0\n",
      "score:  <oedocking.OEScore; proxy of <Swig Object of type 'OEDocking::OEScore *' at 0x7c8739ebc210> >\n",
      "scoreType:  0\n",
      "score:  <oedocking.OEScore; proxy of <Swig Object of type 'OEDocking::OEScore *' at 0x7af5e037c210> >\n"
     ]
    },
    {
     "name": "stderr",
     "output_type": "stream",
     "text": [
      "Warning: OE3DToAtomStereo is unable to perceive atom stereo from a flat geometry on atom 28 of molecule 'stable:False satoms:46 tatoms:54 sratio:0.8518518518518519'\n",
      "Warning: OE3DToAtomStereo had a problem during OEWriteMolecule when writing 'stable:False satoms:46 tatoms:54 sratio:0.8518518518518519'\n"
     ]
    },
    {
     "name": "stdout",
     "output_type": "stream",
     "text": [
      "scoreType:  0\n",
      "score:  <oedocking.OEScore; proxy of <Swig Object of type 'OEDocking::OEScore *' at 0x715f422bc210> >\n",
      "scoreType:  0\n",
      "score:  <oedocking.OEScore; proxy of <Swig Object of type 'OEDocking::OEScore *' at 0x712a33378210> >\n",
      "scoreType:  0\n",
      "score:  <oedocking.OEScore; proxy of <Swig Object of type 'OEDocking::OEScore *' at 0x7a839577c210> >\n"
     ]
    },
    {
     "name": "stderr",
     "output_type": "stream",
     "text": [
      "Warning: OE3DToAtomStereo is unable to perceive atom stereo from a flat geometry on atom 17 of molecule 'stable:False satoms:46 tatoms:54 sratio:0.8518518518518519'\n",
      "Warning: OE3DToAtomStereo had a problem during OEWriteMolecule when writing 'stable:False satoms:46 tatoms:54 sratio:0.8518518518518519'\n"
     ]
    },
    {
     "name": "stdout",
     "output_type": "stream",
     "text": [
      "scoreType:  0\n",
      "score:  <oedocking.OEScore; proxy of <Swig Object of type 'OEDocking::OEScore *' at 0x769bdfebc210> >\n",
      "scoreType:  0\n",
      "score:  <oedocking.OEScore; proxy of <Swig Object of type 'OEDocking::OEScore *' at 0x7d561f578210> >\n",
      "scoreType:  0\n",
      "score:  <oedocking.OEScore; proxy of <Swig Object of type 'OEDocking::OEScore *' at 0x71e1dbf7c210> >\n",
      "scoreType:  0\n",
      "score:  <oedocking.OEScore; proxy of <Swig Object of type 'OEDocking::OEScore *' at 0x7792dcf7c210> >\n",
      "scoreType:  0\n",
      "score:  <oedocking.OEScore; proxy of <Swig Object of type 'OEDocking::OEScore *' at 0x754cbfb7c210> >\n",
      "scoreType:  0\n",
      "score:  <oedocking.OEScore; proxy of <Swig Object of type 'OEDocking::OEScore *' at 0x7f4b8f0bc210> >\n",
      "scoreType:  0\n",
      "score:  <oedocking.OEScore; proxy of <Swig Object of type 'OEDocking::OEScore *' at 0x7f8857ebc210> >\n",
      "scoreType:  0\n",
      "score:  <oedocking.OEScore; proxy of <Swig Object of type 'OEDocking::OEScore *' at 0x77e4bdf7c210> >\n",
      "scoreType:  0\n",
      "score:  <oedocking.OEScore; proxy of <Swig Object of type 'OEDocking::OEScore *' at 0x7d2e84ebc210> >\n",
      "scoreType:  0\n",
      "score:  <oedocking.OEScore; proxy of <Swig Object of type 'OEDocking::OEScore *' at 0x77e29b6bc210> >\n",
      "scoreType:  0\n",
      "score:  <oedocking.OEScore; proxy of <Swig Object of type 'OEDocking::OEScore *' at 0x7b731c2bc210> >\n",
      "scoreType:  0\n",
      "score:  <oedocking.OEScore; proxy of <Swig Object of type 'OEDocking::OEScore *' at 0x72783a0bc210> >\n",
      "scoreType:  0\n",
      "score:  <oedocking.OEScore; proxy of <Swig Object of type 'OEDocking::OEScore *' at 0x75a5b617c210> >\n",
      "scoreType:  0\n",
      "score:  <oedocking.OEScore; proxy of <Swig Object of type 'OEDocking::OEScore *' at 0x7b258d97c210> >\n"
     ]
    },
    {
     "name": "stderr",
     "output_type": "stream",
     "text": [
      "Warning: OE3DToAtomStereo is unable to perceive atom stereo from a flat geometry on atom 40 of molecule 'stable:False satoms:34 tatoms:54 sratio:0.6296296296296297'\n",
      "Warning: OE3DToAtomStereo had a problem during OEWriteMolecule when writing 'stable:False satoms:34 tatoms:54 sratio:0.6296296296296297'\n"
     ]
    },
    {
     "name": "stdout",
     "output_type": "stream",
     "text": [
      "scoreType:  0\n",
      "score:  <oedocking.OEScore; proxy of <Swig Object of type 'OEDocking::OEScore *' at 0x73227aebc210> >\n",
      "scoreType:  0\n",
      "score:  <oedocking.OEScore; proxy of <Swig Object of type 'OEDocking::OEScore *' at 0x7a8a08978210> >\n",
      "scoreType:  0\n",
      "score:  <oedocking.OEScore; proxy of <Swig Object of type 'OEDocking::OEScore *' at 0x7299906c4210> >\n",
      "scoreType:  0\n",
      "score:  <oedocking.OEScore; proxy of <Swig Object of type 'OEDocking::OEScore *' at 0x754c0d574210> >\n",
      "scoreType:  0\n",
      "score:  <oedocking.OEScore; proxy of <Swig Object of type 'OEDocking::OEScore *' at 0x7f2c1c0bc210> >\n",
      "scoreType:  0\n",
      "score:  <oedocking.OEScore; proxy of <Swig Object of type 'OEDocking::OEScore *' at 0x70a0c697c210> >\n"
     ]
    },
    {
     "name": "stderr",
     "output_type": "stream",
     "text": [
      "Warning: OE3DToAtomStereo is unable to perceive atom stereo from a flat geometry on atom 0 of molecule 'stable:False satoms:34 tatoms:54 sratio:0.6296296296296297'\n",
      "Warning: OE3DToAtomStereo is unable to perceive atom stereo from a flat geometry on atom 14 of molecule 'stable:False satoms:34 tatoms:54 sratio:0.6296296296296297'\n",
      "Warning: OE3DToAtomStereo had a problem during OEWriteMolecule when writing 'stable:False satoms:34 tatoms:54 sratio:0.6296296296296297'\n"
     ]
    },
    {
     "name": "stdout",
     "output_type": "stream",
     "text": [
      "scoreType:  0\n",
      "score:  <oedocking.OEScore; proxy of <Swig Object of type 'OEDocking::OEScore *' at 0x74f87b8bc210> >\n",
      "scoreType:  0\n",
      "score:  <oedocking.OEScore; proxy of <Swig Object of type 'OEDocking::OEScore *' at 0x718d43d78210> >\n",
      "scoreType:  0\n",
      "score:  <oedocking.OEScore; proxy of <Swig Object of type 'OEDocking::OEScore *' at 0x7677e46bc210> >\n",
      "scoreType:  0\n",
      "score:  <oedocking.OEScore; proxy of <Swig Object of type 'OEDocking::OEScore *' at 0x7d80ee97c210> >\n"
     ]
    },
    {
     "name": "stderr",
     "output_type": "stream",
     "text": [
      "Warning: OE3DToAtomStereo is unable to perceive atom stereo from a flat geometry on atom 36 of molecule 'stable:False satoms:30 tatoms:54 sratio:0.5555555555555556'\n",
      "Warning: OE3DToAtomStereo had a problem during OEWriteMolecule when writing 'stable:False satoms:30 tatoms:54 sratio:0.5555555555555556'\n"
     ]
    },
    {
     "name": "stdout",
     "output_type": "stream",
     "text": [
      "scoreType:  0\n",
      "score:  <oedocking.OEScore; proxy of <Swig Object of type 'OEDocking::OEScore *' at 0x6ffc40abc210> >\n",
      "scoreType:  0\n",
      "score:  <oedocking.OEScore; proxy of <Swig Object of type 'OEDocking::OEScore *' at 0x780b054bc210> >\n",
      "scoreType:  0\n",
      "score:  <oedocking.OEScore; proxy of <Swig Object of type 'OEDocking::OEScore *' at 0x7eb8ef57c210> >\n",
      "scoreType:  0\n",
      "score:  <oedocking.OEScore; proxy of <Swig Object of type 'OEDocking::OEScore *' at 0x757ae22c4210> >\n"
     ]
    },
    {
     "name": "stderr",
     "output_type": "stream",
     "text": [
      "Warning: OE3DToAtomStereo is unable to perceive atom stereo from a flat geometry on atom 47 of molecule 'stable:False satoms:26 tatoms:54 sratio:0.48148148148148145'\n",
      "Warning: OE3DToAtomStereo had a problem during OEWriteMolecule when writing 'stable:False satoms:26 tatoms:54 sratio:0.48148148148148145'\n"
     ]
    },
    {
     "name": "stdout",
     "output_type": "stream",
     "text": [
      "scoreType:  0\n",
      "score:  <oedocking.OEScore; proxy of <Swig Object of type 'OEDocking::OEScore *' at 0x78a8fa6bc210> >\n",
      "scoreType:  0\n",
      "score:  <oedocking.OEScore; proxy of <Swig Object of type 'OEDocking::OEScore *' at 0x70cafcebc210> >\n"
     ]
    },
    {
     "name": "stderr",
     "output_type": "stream",
     "text": [
      "Warning: OE3DToAtomStereo is unable to perceive atom stereo from a flat geometry on atom 15 of molecule 'stable:False satoms:26 tatoms:54 sratio:0.48148148148148145'\n",
      "Warning: OE3DToAtomStereo had a problem during OEWriteMolecule when writing 'stable:False satoms:26 tatoms:54 sratio:0.48148148148148145'\n"
     ]
    },
    {
     "name": "stdout",
     "output_type": "stream",
     "text": [
      "scoreType:  0\n",
      "score:  <oedocking.OEScore; proxy of <Swig Object of type 'OEDocking::OEScore *' at 0x72db658c4210> >\n",
      "scoreType:  0\n",
      "score:  <oedocking.OEScore; proxy of <Swig Object of type 'OEDocking::OEScore *' at 0x7a3920ebc210> >\n",
      "scoreType:  0\n",
      "score:  <oedocking.OEScore; proxy of <Swig Object of type 'OEDocking::OEScore *' at 0x7d6e66774210> >\n"
     ]
    },
    {
     "name": "stderr",
     "output_type": "stream",
     "text": [
      "Warning: OE3DToAtomStereo is unable to perceive atom stereo from a flat geometry on atom 26 of molecule 'stable:False satoms:30 tatoms:54 sratio:0.5555555555555556'\n",
      "Warning: OE3DToAtomStereo had a problem during OEWriteMolecule when writing 'stable:False satoms:30 tatoms:54 sratio:0.5555555555555556'\n"
     ]
    },
    {
     "name": "stdout",
     "output_type": "stream",
     "text": [
      "scoreType:  0\n",
      "score:  <oedocking.OEScore; proxy of <Swig Object of type 'OEDocking::OEScore *' at 0x71df8c77c210> >\n",
      "scoreType:  0\n",
      "score:  <oedocking.OEScore; proxy of <Swig Object of type 'OEDocking::OEScore *' at 0x74a5b56bc210> >\n",
      "scoreType:  0\n",
      "score:  <oedocking.OEScore; proxy of <Swig Object of type 'OEDocking::OEScore *' at 0x76e1d04bc210> >\n",
      "scoreType:  0\n",
      "score:  <oedocking.OEScore; proxy of <Swig Object of type 'OEDocking::OEScore *' at 0x7a217fb7c210> >\n",
      "scoreType:  0\n",
      "score:  <oedocking.OEScore; proxy of <Swig Object of type 'OEDocking::OEScore *' at 0x79d2fc4bc210> >\n",
      "scoreType:  0\n",
      "score:  <oedocking.OEScore; proxy of <Swig Object of type 'OEDocking::OEScore *' at 0x7db4ce17c210> >\n",
      "scoreType:  0\n",
      "score:  <oedocking.OEScore; proxy of <Swig Object of type 'OEDocking::OEScore *' at 0x7c92d077c210> >\n",
      "scoreType:  0\n",
      "score:  <oedocking.OEScore; proxy of <Swig Object of type 'OEDocking::OEScore *' at 0x7131ff37c210> >\n",
      "scoreType:  0\n",
      "score:  <oedocking.OEScore; proxy of <Swig Object of type 'OEDocking::OEScore *' at 0x733992d7c210> >\n",
      "scoreType:  0\n",
      "score:  <oedocking.OEScore; proxy of <Swig Object of type 'OEDocking::OEScore *' at 0x79c487cc4210> >\n",
      "scoreType:  0\n",
      "score:  <oedocking.OEScore; proxy of <Swig Object of type 'OEDocking::OEScore *' at 0x783f4c8bc210> >\n",
      "scoreType:  0\n",
      "score:  <oedocking.OEScore; proxy of <Swig Object of type 'OEDocking::OEScore *' at 0x7f6946578210> >\n",
      "scoreType:  0\n",
      "score:  <oedocking.OEScore; proxy of <Swig Object of type 'OEDocking::OEScore *' at 0x789bf98bc210> >\n",
      "scoreType:  0\n",
      "score:  <oedocking.OEScore; proxy of <Swig Object of type 'OEDocking::OEScore *' at 0x7ba5a6ebc210> >\n",
      "scoreType:  0\n",
      "score:  <oedocking.OEScore; proxy of <Swig Object of type 'OEDocking::OEScore *' at 0x7e61124bc210> >\n",
      "scoreType:  0\n",
      "score:  <oedocking.OEScore; proxy of <Swig Object of type 'OEDocking::OEScore *' at 0x786f138bc210> >\n",
      "scoreType:  0\n",
      "score:  <oedocking.OEScore; proxy of <Swig Object of type 'OEDocking::OEScore *' at 0x7cd097ebc210> >\n",
      "scoreType:  0\n",
      "score:  <oedocking.OEScore; proxy of <Swig Object of type 'OEDocking::OEScore *' at 0x74096fd7c210> >\n",
      "scoreType:  0\n",
      "score:  <oedocking.OEScore; proxy of <Swig Object of type 'OEDocking::OEScore *' at 0x78d7caebc210> >\n",
      "scoreType:  0\n",
      "score:  <oedocking.OEScore; proxy of <Swig Object of type 'OEDocking::OEScore *' at 0x739e588bc210> >\n",
      "scoreType:  0\n",
      "score:  <oedocking.OEScore; proxy of <Swig Object of type 'OEDocking::OEScore *' at 0x7ab15a37c210> >\n",
      "scoreType:  0\n",
      "score:  <oedocking.OEScore; proxy of <Swig Object of type 'OEDocking::OEScore *' at 0x72180277c210> >\n",
      "scoreType:  0\n",
      "score:  <oedocking.OEScore; proxy of <Swig Object of type 'OEDocking::OEScore *' at 0x7d958e17c210> >\n",
      "scoreType:  0\n",
      "score:  <oedocking.OEScore; proxy of <Swig Object of type 'OEDocking::OEScore *' at 0x77b4580bc210> >\n",
      "scoreType:  0\n",
      "score:  <oedocking.OEScore; proxy of <Swig Object of type 'OEDocking::OEScore *' at 0x71ddd5978210> >\n",
      "scoreType:  0\n",
      "score:  <oedocking.OEScore; proxy of <Swig Object of type 'OEDocking::OEScore *' at 0x7b3cf70bc210> >\n",
      "scoreType:  0\n",
      "score:  <oedocking.OEScore; proxy of <Swig Object of type 'OEDocking::OEScore *' at 0x7b558197c210> >\n",
      "scoreType:  0\n",
      "score:  <oedocking.OEScore; proxy of <Swig Object of type 'OEDocking::OEScore *' at 0x7edd6fd7c210> >\n",
      "scoreType:  0\n",
      "score:  <oedocking.OEScore; proxy of <Swig Object of type 'OEDocking::OEScore *' at 0x75829c6bc210> >\n",
      "scoreType:  0\n",
      "score:  <oedocking.OEScore; proxy of <Swig Object of type 'OEDocking::OEScore *' at 0x7248ed37c210> >\n",
      "scoreType:  0\n",
      "score:  <oedocking.OEScore; proxy of <Swig Object of type 'OEDocking::OEScore *' at 0x7b746637c210> >\n",
      "scoreType:  0\n",
      "score:  <oedocking.OEScore; proxy of <Swig Object of type 'OEDocking::OEScore *' at 0x7365582bc210> >\n",
      "scoreType:  0\n",
      "score:  <oedocking.OEScore; proxy of <Swig Object of type 'OEDocking::OEScore *' at 0x7b8e2debc210> >\n",
      "scoreType:  0\n",
      "score:  <oedocking.OEScore; proxy of <Swig Object of type 'OEDocking::OEScore *' at 0x793030ebc210> >\n",
      "scoreType:  0\n",
      "score:  <oedocking.OEScore; proxy of <Swig Object of type 'OEDocking::OEScore *' at 0x743a92b7c210> >\n",
      "scoreType:  0\n",
      "score:  <oedocking.OEScore; proxy of <Swig Object of type 'OEDocking::OEScore *' at 0x76e4920bc210> >\n",
      "scoreType:  0\n",
      "score:  <oedocking.OEScore; proxy of <Swig Object of type 'OEDocking::OEScore *' at 0x74e43497c210> >\n",
      "scoreType:  0\n",
      "score:  <oedocking.OEScore; proxy of <Swig Object of type 'OEDocking::OEScore *' at 0x73b2e917c210> >\n",
      "scoreType:  0\n",
      "score:  <oedocking.OEScore; proxy of <Swig Object of type 'OEDocking::OEScore *' at 0x75cfb98bc210> >\n",
      "scoreType:  0\n",
      "score:  <oedocking.OEScore; proxy of <Swig Object of type 'OEDocking::OEScore *' at 0x769cc0abc210> >\n",
      "scoreType:  0\n",
      "score:  <oedocking.OEScore; proxy of <Swig Object of type 'OEDocking::OEScore *' at 0x7e3f368bc210> >\n",
      "scoreType:  0\n",
      "score:  <oedocking.OEScore; proxy of <Swig Object of type 'OEDocking::OEScore *' at 0x7cb0b24bc210> >\n",
      "scoreType:  0\n",
      "score:  <oedocking.OEScore; proxy of <Swig Object of type 'OEDocking::OEScore *' at 0x7d3f4157c210> >\n"
     ]
    }
   ],
   "source": [
    "for exp in exp_list:\n",
    "    exp_id = exp.split(\"/\")[-1]\n",
    "    \n",
    "    if not os.path.exists(f'shapegauss/{exp_id}/'):\n",
    "        os.makedirs(f'shapegauss/{exp_id}/')\n",
    "    \n",
    "    ligands = glob.glob(exp+\"/*.txt\")\n",
    "    \n",
    "    \n",
    "    for ligand in ligands:\n",
    "        mol_id = ligand.split(\"/\")[-1].split(\".\")[0]\n",
    "\n",
    "        with open(ligand, \"r\") as readfile:\n",
    "            file = readfile.read()\n",
    "\n",
    "        with open(\"tmp.xyz\",\"w\") as writefile:\n",
    "            writefile.write(file)\n",
    "\n",
    "        os.system(f'python docking_oe/RescorePoses.py -in tmp.xyz -out shapegauss/{exp_id}/{mol_id}.sdf -receptor docking_oe/mpro2.oedu -score Shapegauss')"
   ]
  },
  {
   "cell_type": "code",
   "execution_count": null,
   "id": "20e583cb",
   "metadata": {},
   "outputs": [],
   "source": []
  },
  {
   "cell_type": "code",
   "execution_count": null,
   "id": "03484812",
   "metadata": {},
   "outputs": [],
   "source": []
  }
 ],
 "metadata": {
  "kernelspec": {
   "display_name": "Python 3 (ipykernel)",
   "language": "python",
   "name": "python3"
  },
  "language_info": {
   "codemirror_mode": {
    "name": "ipython",
    "version": 3
   },
   "file_extension": ".py",
   "mimetype": "text/x-python",
   "name": "python",
   "nbconvert_exporter": "python",
   "pygments_lexer": "ipython3",
   "version": "3.10.14"
  }
 },
 "nbformat": 4,
 "nbformat_minor": 5
}
