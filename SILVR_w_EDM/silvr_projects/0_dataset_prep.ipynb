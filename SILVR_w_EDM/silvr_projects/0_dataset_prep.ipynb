{
 "cells": [
  {
   "cell_type": "markdown",
   "metadata": {},
   "source": [
    "# This notebook is for preparing a dataset for SILVR.\n",
    "It would be good to split a protein-ligand complex (pdb format) and convert the ligand file to a pdb format, before using OpenBabel or rdkit for removing bonding information"
   ]
  },
  {
   "cell_type": "code",
   "execution_count": 1,
   "metadata": {},
   "outputs": [],
   "source": [
    "import os\n",
    "# make sure to set the OE_LICENSE environment variable, the full path should be included, or else openeye will kill your kernel!\n",
    "os.environ['OE_LICENSE'] = '/home/ian/oe_license.txt'\n",
    "os.chmod('/home/ian/oe_license.txt', 0o755)"
   ]
  },
  {
   "cell_type": "code",
   "execution_count": 2,
   "metadata": {},
   "outputs": [],
   "source": [
    "import os\n",
    "from Bio.PDB import PDBList, PDBParser, Select, PDBIO\n",
    "from subprocess import Popen, PIPE\n",
    "import re\n",
    "import logging \n",
    "from pathlib import Path\n",
    "import contextlib\n",
    "import subprocess\n",
    "from rdkit import Chem\n",
    "from rdkit.Chem import rdMolTransforms as rdmt\n",
    "from rdkit.Chem import FragmentOnBonds\n",
    "from rdkit.Chem.rdmolfiles import MolToXYZFile\n",
    "from rdkit.Chem.rdmolfiles import MolToXYZBlock\n",
    "import MDAnalysis as mda\n",
    "import numpy as np\n",
    "import pandas as pd\n",
    "from tqdm import tqdm \n",
    "import glob\n",
    "from asapdiscovery.data.backend.openeye import (\n",
    "    oechem,\n",
    "    oedocking,\n",
    "    oegrid,\n",
    "    oespruce,\n",
    "    openeye_perceive_residues,\n",
    ")\n",
    "from asapdiscovery.modeling.schema import MoleculeComponent, MoleculeFilter\n",
    "from asapdiscovery.modeling.modeling import split_openeye_mol, make_design_unit\n",
    "import matplotlib.pyplot as plt\n",
    "import seaborn as sns\n",
    "# Set up the working directory\n",
    "cwd = os.getcwd()"
   ]
  },
  {
   "cell_type": "markdown",
   "metadata": {},
   "source": [
    "Using OpenEye Toolkits to extract the ligand (doesn't work very well right now)"
   ]
  },
  {
   "cell_type": "code",
   "execution_count": 3,
   "metadata": {},
   "outputs": [],
   "source": [
    "# from https://github.com/choderalab/perses/blob/main/examples/moonshot-mainseries/00-prep-receptor.py#L19-L35\n",
    "def read_pdb_file(pdb_file):\n",
    "    print(f'Reading receptor from {pdb_file}...')\n",
    "\n",
    "    from openeye import oechem\n",
    "    ifs = oechem.oemolistream()\n",
    "    #ifs.SetFlavor(oechem.OEFormat_PDB, oechem.OEIFlavor_PDB_Default | oechem.OEIFlavor_PDB_DATA | oechem.OEIFlavor_PDB_ALTLOC)  # Causes extra protons on VAL73 for x1425\n",
    "    ifs.SetFlavor(oechem.OEFormat_PDB, oechem.OEIFlavor_PDB_Default | oechem.OEIFlavor_PDB_DATA )\n",
    "\n",
    "    if not ifs.open(pdb_file):\n",
    "        oechem.OEThrow.Fatal(\"Unable to open %s for reading.\" % pdb_file)\n",
    "\n",
    "    mol = oechem.OEGraphMol()\n",
    "    if not oechem.OEReadMolecule(ifs, mol):\n",
    "        oechem.OEThrow.Fatal(\"Unable to read molecule from %s.\" % pdb_file)\n",
    "    ifs.close()\n",
    "\n",
    "    return (mol)\n",
    "\n",
    "# script from extract_ligand_oedu.py: https://docs.eyesopen.com/toolkits/python/oechemtk/oebio_examples/oebio_example_extract_ligand.html#section-example-oebio-extract-ligand\n",
    "def ExtractLigandFromDU(du, ofs):\n",
    "# @ <SNIPPET-ExtractLigandFromDesignUnit>\n",
    "    lig = oechem.OEGraphMol()\n",
    "    if not du.GetLigand(lig):\n",
    "        # TODO: this is likely to fail, how to handle this?\n",
    "        oechem.OEThrow.Fatal(\"Error: Could not extract ligand from the OEDesignUnit.\")\n",
    "        \n",
    "    oechem.OEWriteMolecule(ofs,lig) \n",
    "# @ </SNIPPET-ExtractLigandFromDesignUnit>\n",
    "\n",
    "    ofs.close()"
   ]
  },
  {
   "cell_type": "markdown",
   "metadata": {},
   "source": [
    "Define some classes and functions to download, rename and split the ligand and the receptor from a complex.<br>\n",
    "For ligand, we are using OpenEye to extract, for receptors (proteins), we use a customisable biopython module. (Please do not use biopython to extract ligands, as it does not retain the position of the ligand atoms)"
   ]
  },
  {
   "cell_type": "code",
   "execution_count": 4,
   "metadata": {},
   "outputs": [],
   "source": [
    "# using Biopython to extract the receptor\n",
    "class ReceptorSelect(Select):\n",
    "    '''This class is used to select only the receptor residues from a PDB file, by excluding any HETATM and any water.'''\n",
    "    # I deleted the heavy metal ions as they are not a valid AutoDock type!\n",
    "    # def __init__(self):\n",
    "    #     # List of common heavy metal ions in protein structures\n",
    "    #     self.heavy_metal_ions = ['ZN', 'FE', 'MG', 'CA', 'MN', 'CO', 'CU', 'NI', 'MO', 'W','YB']\n",
    "\n",
    "    def accept_residue(self, residue):\n",
    "        # Exclude water molecules, assumed to have residue name 'HOH' or 'WAT'\n",
    "        if residue.get_resname() in ['HOH', 'WAT']:\n",
    "            return False\n",
    "        \n",
    "        # Include heavy metal ions\n",
    "        # if residue.get_resname() in self.heavy_metal_ions:\n",
    "        #     return True\n",
    "        \n",
    "        # Check if any atom in the residue is from an ATOM record\n",
    "        for atom in residue:\n",
    "            '''in biopython, atom.get_full_id()[3] is accessing the fourth element of the full ID. This element represents the atom name, atom.get_full_id()[3][0] is accessing the first character of the atom name. This character represents the element symbol of the atom. The condition atom.get_full_id()[3][0] == ' ' checks whether the first character of the atom name is a space. If it is a space, then the atom is from an ATOM record, otherwise it is from a HETATM record.'''\n",
    "            if atom.get_full_id()[3][0] == ' ':\n",
    "                return True\n",
    "        return False\n",
    "\n",
    "class ProteinLigandSplitter:\n",
    "    ''' This class is for converting a protein-ligand complex (pdb format) to a receptor and a ligand (pdb format). The receptor is saved as a separate file, and the ligand is saved as a separate file. The class uses Biopython to extract the receptor and OpenEye to extract the ligand.'''\n",
    "    \n",
    "    def __init__(self, input_data, is_pdb_id=True):\n",
    "        self.input_data = input_data\n",
    "        self.is_pdb_id = is_pdb_id\n",
    "        self.pdbl = PDBList()\n",
    "        self.parser = PDBParser()\n",
    "        self.filename = None\n",
    "        self.structure = None\n",
    "        self.receptor_file = f\"{self.input_data}_receptor.pdb\"\n",
    "        self.ligand_file = f\"{self.input_data}_ligand.pdb\"\n",
    "        \n",
    "        if self.is_pdb_id:\n",
    "            self.download_pdb_file(self.input_data)\n",
    "        else:\n",
    "            self.filename = self.input_data\n",
    "            self.structure = self.parser.get_structure('structure', self.filename)\n",
    "\n",
    "    def download_pdb_file(self, pdb_id):\n",
    "        self.filename = self.pdbl.retrieve_pdb_file(pdb_id, file_format='pdb', pdir='.', overwrite=True)\n",
    "        self.structure = self.parser.get_structure('structure', self.filename)\n",
    "    \n",
    "    def extract_receptor(self):\n",
    "        io = PDBIO()\n",
    "        io.set_structure(self.structure)\n",
    "        io.save(self.receptor_file, ReceptorSelect())\n",
    "\n",
    "    def rename_downloaded_file(self):\n",
    "        new_filename = f\"{self.input_data}.pdb\"\n",
    "        if os.path.exists(self.filename) and not os.path.exists(new_filename):\n",
    "            os.rename(self.filename, new_filename)\n",
    "        self.filename = new_filename\n",
    "\n",
    "    def extract_ligand(self):\n",
    "        # debug line\n",
    "        print(f'Extracting ligand from {self.filename}...')\n",
    "        complex = read_pdb_file(self.filename)\n",
    "        # du: OEDesignUnit\n",
    "        # TODO: error trap for 'success'\n",
    "        try:\n",
    "            success, du = make_design_unit(complex)\n",
    "            # use script from extract_ligand_oedu.py to extract ligand from complex\n",
    "            oeoutfile = oechem.oemolostream(self.ligand_file)\n",
    "            ExtractLigandFromDU(du, oeoutfile)\n",
    "        except Exception as e:\n",
    "            subprocess.run(f'../../docking/extract_ligand.sh {self.input_data}', shell=True)\n",
    "            print(f'Error processing {self.input_data}: {e}, using my own shell script to extract ligand instead...')\n",
    "            \n",
    "    def split_protein_ligand(self):\n",
    "        if self.is_pdb_id:\n",
    "            self.rename_downloaded_file()\n",
    "        self.extract_receptor()\n",
    "        self.extract_ligand()\n",
    "        print(f'The receptor file has been saved as {self.receptor_file}')\n",
    "        print(f'The ligand file has been saved as {self.ligand_file}')\n",
    "        return self.receptor_file, self.ligand_file"
   ]
  },
  {
   "cell_type": "markdown",
   "metadata": {},
   "source": [
    "Use my own shell script to extract ligand (working pipeline, but more robustness testing required.)\n",
    "Use OpenBabel to fragment the ligands\n",
    "***Only run this once!***"
   ]
  },
  {
   "cell_type": "code",
   "execution_count": 19,
   "metadata": {},
   "outputs": [
    {
     "name": "stdout",
     "output_type": "stream",
     "text": [
      "Processing ./Mpro_complexes/Mpro-x0305_0...\n",
      "Ligand extraction completed. Output saved to ./Mpro_complexes/Mpro-x0305_0_ligand.pdb\n",
      "Ligand extracted successfully and saved as ./Mpro_complexes/Mpro-x0305_0_ligand.pdb.\n",
      "Converted ligand to xyz format and saved as ./Mpro_complexes/Mpro-x0305_0_fragment.xyz.\n",
      "Processing ./Mpro_complexes/Mpro-x2193_0...\n",
      "Ligand extraction completed. Output saved to ./Mpro_complexes/Mpro-x2193_0_ligand.pdb\n",
      "Ligand extracted successfully and saved as ./Mpro_complexes/Mpro-x2193_0_ligand.pdb.\n",
      "Converted ligand to xyz format and saved as ./Mpro_complexes/Mpro-x2193_0_fragment.xyz.\n",
      "Processing ./Mpro_complexes/Mpro-x0397_0...\n",
      "Ligand extraction completed. Output saved to ./Mpro_complexes/Mpro-x0397_0_ligand.pdb\n",
      "Ligand extracted successfully and saved as ./Mpro_complexes/Mpro-x0397_0_ligand.pdb.\n",
      "Converted ligand to xyz format and saved as ./Mpro_complexes/Mpro-x0397_0_fragment.xyz.\n",
      "Processing ./Mpro_complexes/Mpro-x0946_0...\n",
      "Ligand extraction completed. Output saved to ./Mpro_complexes/Mpro-x0946_0_ligand.pdb\n",
      "Ligand extracted successfully and saved as ./Mpro_complexes/Mpro-x0946_0_ligand.pdb.\n",
      "Converted ligand to xyz format and saved as ./Mpro_complexes/Mpro-x0946_0_fragment.xyz.\n",
      "Processing ./Mpro_complexes/Mpro-x0161_0...\n",
      "Ligand extraction completed. Output saved to ./Mpro_complexes/Mpro-x0161_0_ligand.pdb\n",
      "Ligand extracted successfully and saved as ./Mpro_complexes/Mpro-x0161_0_ligand.pdb.\n",
      "Converted ligand to xyz format and saved as ./Mpro_complexes/Mpro-x0161_0_fragment.xyz.\n",
      "Processing ./Mpro_complexes/Mpro-x0434_0...\n",
      "Ligand extraction completed. Output saved to ./Mpro_complexes/Mpro-x0434_0_ligand.pdb\n",
      "Ligand extracted successfully and saved as ./Mpro_complexes/Mpro-x0434_0_ligand.pdb.\n",
      "Converted ligand to xyz format and saved as ./Mpro_complexes/Mpro-x0434_0_fragment.xyz.\n",
      "Processing ./Mpro_complexes/Mpro-x1077_0...\n",
      "Ligand extraction completed. Output saved to ./Mpro_complexes/Mpro-x1077_0_ligand.pdb\n"
     ]
    },
    {
     "name": "stderr",
     "output_type": "stream",
     "text": [
      "1 molecule converted\n",
      "1 molecule converted\n",
      "1 molecule converted\n",
      "1 molecule converted\n",
      "1 molecule converted\n",
      "1 molecule converted\n",
      "1 molecule converted\n"
     ]
    },
    {
     "name": "stdout",
     "output_type": "stream",
     "text": [
      "Ligand extracted successfully and saved as ./Mpro_complexes/Mpro-x1077_0_ligand.pdb.\n",
      "Converted ligand to xyz format and saved as ./Mpro_complexes/Mpro-x1077_0_fragment.xyz.\n",
      "Processing ./Mpro_complexes/Mpro-x0395_0...\n",
      "Ligand extraction completed. Output saved to ./Mpro_complexes/Mpro-x0395_0_ligand.pdb\n",
      "Ligand extracted successfully and saved as ./Mpro_complexes/Mpro-x0395_0_ligand.pdb.\n",
      "Converted ligand to xyz format and saved as ./Mpro_complexes/Mpro-x0395_0_fragment.xyz.\n",
      "Processing ./Mpro_complexes/Mpro-x0540_0...\n",
      "Ligand extraction completed. Output saved to ./Mpro_complexes/Mpro-x0540_0_ligand.pdb\n",
      "Ligand extracted successfully and saved as ./Mpro_complexes/Mpro-x0540_0_ligand.pdb.\n",
      "Converted ligand to xyz format and saved as ./Mpro_complexes/Mpro-x0540_0_fragment.xyz.\n",
      "Processing ./Mpro_complexes/Mpro-x0995_0...\n",
      "Ligand extraction completed. Output saved to ./Mpro_complexes/Mpro-x0995_0_ligand.pdb\n",
      "Ligand extracted successfully and saved as ./Mpro_complexes/Mpro-x0995_0_ligand.pdb.\n",
      "Converted ligand to xyz format and saved as ./Mpro_complexes/Mpro-x0995_0_fragment.xyz.\n",
      "Processing ./Mpro_complexes/Mpro-x0195_0...\n",
      "Ligand extraction completed. Output saved to ./Mpro_complexes/Mpro-x0195_0_ligand.pdb\n",
      "Ligand extracted successfully and saved as ./Mpro_complexes/Mpro-x0195_0_ligand.pdb.\n",
      "Converted ligand to xyz format and saved as ./Mpro_complexes/Mpro-x0195_0_fragment.xyz.\n",
      "Processing ./Mpro_complexes/Mpro-x0991_0...\n",
      "Ligand extraction completed. Output saved to ./Mpro_complexes/Mpro-x0991_0_ligand.pdb\n",
      "Ligand extracted successfully and saved as ./Mpro_complexes/Mpro-x0991_0_ligand.pdb.\n",
      "Converted ligand to xyz format and saved as ./Mpro_complexes/Mpro-x0991_0_fragment.xyz.\n",
      "Processing ./Mpro_complexes/Mpro-x0678_0...\n",
      "Ligand extraction completed. Output saved to ./Mpro_complexes/Mpro-x0678_0_ligand.pdb\n",
      "Ligand extracted successfully and saved as ./Mpro_complexes/Mpro-x0678_0_ligand.pdb.\n",
      "Converted ligand to xyz format and saved as ./Mpro_complexes/Mpro-x0678_0_fragment.xyz.\n",
      "Processing ./Mpro_complexes/Mpro-x1093_0...\n"
     ]
    },
    {
     "name": "stderr",
     "output_type": "stream",
     "text": [
      "1 molecule converted\n",
      "1 molecule converted\n",
      "1 molecule converted\n",
      "1 molecule converted\n",
      "1 molecule converted\n",
      "1 molecule converted\n",
      "1 molecule converted\n"
     ]
    },
    {
     "name": "stdout",
     "output_type": "stream",
     "text": [
      "Ligand extraction completed. Output saved to ./Mpro_complexes/Mpro-x1093_0_ligand.pdb\n",
      "Ligand extracted successfully and saved as ./Mpro_complexes/Mpro-x1093_0_ligand.pdb.\n",
      "Converted ligand to xyz format and saved as ./Mpro_complexes/Mpro-x1093_0_fragment.xyz.\n",
      "Processing ./Mpro_complexes/Mpro-x0072_0...\n",
      "Ligand extraction completed. Output saved to ./Mpro_complexes/Mpro-x0072_0_ligand.pdb\n",
      "Ligand extracted successfully and saved as ./Mpro_complexes/Mpro-x0072_0_ligand.pdb.\n",
      "Converted ligand to xyz format and saved as ./Mpro_complexes/Mpro-x0072_0_fragment.xyz.\n",
      "Processing ./Mpro_complexes/Mpro-x0426_0...\n",
      "Ligand extraction completed. Output saved to ./Mpro_complexes/Mpro-x0426_0_ligand.pdb\n",
      "Ligand extracted successfully and saved as ./Mpro_complexes/Mpro-x0426_0_ligand.pdb.\n",
      "Converted ligand to xyz format and saved as ./Mpro_complexes/Mpro-x0426_0_fragment.xyz.\n",
      "Processing ./Mpro_complexes/Mpro-x0387_0...\n",
      "Ligand extraction completed. Output saved to ./Mpro_complexes/Mpro-x0387_0_ligand.pdb\n",
      "Ligand extracted successfully and saved as ./Mpro_complexes/Mpro-x0387_0_ligand.pdb.\n",
      "Converted ligand to xyz format and saved as ./Mpro_complexes/Mpro-x0387_0_fragment.xyz.\n",
      "Processing ./Mpro_complexes/Mpro-x0107_0...\n",
      "Ligand extraction completed. Output saved to ./Mpro_complexes/Mpro-x0107_0_ligand.pdb\n",
      "Ligand extracted successfully and saved as ./Mpro_complexes/Mpro-x0107_0_ligand.pdb.\n",
      "Converted ligand to xyz format and saved as ./Mpro_complexes/Mpro-x0107_0_fragment.xyz.\n",
      "Processing ./Mpro_complexes/Mpro-x1249_0...\n",
      "Ligand extraction completed. Output saved to ./Mpro_complexes/Mpro-x1249_0_ligand.pdb\n",
      "Ligand extracted successfully and saved as ./Mpro_complexes/Mpro-x1249_0_ligand.pdb.\n",
      "Converted ligand to xyz format and saved as ./Mpro_complexes/Mpro-x1249_0_fragment.xyz.\n",
      "Processing ./Mpro_complexes/Mpro-x0104_0...\n",
      "Ligand extraction completed. Output saved to ./Mpro_complexes/Mpro-x0104_0_ligand.pdb\n",
      "Ligand extracted successfully and saved as ./Mpro_complexes/Mpro-x0104_0_ligand.pdb.\n"
     ]
    },
    {
     "name": "stderr",
     "output_type": "stream",
     "text": [
      "1 molecule converted\n",
      "1 molecule converted\n",
      "1 molecule converted\n",
      "1 molecule converted\n",
      "1 molecule converted\n",
      "==============================\n",
      "*** Open Babel Warning  in PerceiveBondOrders\n",
      "  Failed to kekulize aromatic bonds in OBMol::PerceiveBondOrders (title is ./Mpro_complexes/Mpro-x0104_0_ligand.pdb)\n",
      "\n",
      "1 molecule converted\n",
      "1 molecule converted\n"
     ]
    },
    {
     "name": "stdout",
     "output_type": "stream",
     "text": [
      "Converted ligand to xyz format and saved as ./Mpro_complexes/Mpro-x0104_0_fragment.xyz.\n",
      "Processing ./Mpro_complexes/Mpro-x0874_0...\n",
      "Ligand extraction completed. Output saved to ./Mpro_complexes/Mpro-x0874_0_ligand.pdb\n",
      "Ligand extracted successfully and saved as ./Mpro_complexes/Mpro-x0874_0_ligand.pdb.\n",
      "Converted ligand to xyz format and saved as ./Mpro_complexes/Mpro-x0874_0_fragment.xyz.\n",
      "Processing ./Mpro_complexes/Mpro-x0967_0...\n",
      "Ligand extraction completed. Output saved to ./Mpro_complexes/Mpro-x0967_0_ligand.pdb\n",
      "Ligand extracted successfully and saved as ./Mpro_complexes/Mpro-x0967_0_ligand.pdb.\n",
      "Converted ligand to xyz format and saved as ./Mpro_complexes/Mpro-x0967_0_fragment.xyz.\n",
      "Processing ./Mpro_complexes/Mpro-x0354_0...\n",
      "Ligand extraction completed. Output saved to ./Mpro_complexes/Mpro-x0354_0_ligand.pdb\n",
      "Ligand extracted successfully and saved as ./Mpro_complexes/Mpro-x0354_0_ligand.pdb.\n",
      "Converted ligand to xyz format and saved as ./Mpro_complexes/Mpro-x0354_0_fragment.xyz.\n"
     ]
    },
    {
     "name": "stderr",
     "output_type": "stream",
     "text": [
      "1 molecule converted\n",
      "1 molecule converted\n"
     ]
    }
   ],
   "source": [
    "# (try to) extract ligands from all complexes\n",
    "complex_ids = glob.glob('./Mpro_complexes/*.pdb')\n",
    "complex_ids = [complex_id.rsplit('.', 1)[0] for complex_id in complex_ids]\n",
    "for complex_id in complex_ids:\n",
    "    print(f'Processing {complex_id}...')\n",
    "    try:\n",
    "        # the OpenEye Toolkit isn't working very well to extract ligands for our complexes\n",
    "        subprocess.run(f'../../docking/extract_ligand.sh {complex_id}', shell=True)\n",
    "        print(f'Ligand extracted successfully and saved as {complex_id}_ligand.pdb.')\n",
    "\n",
    "        # use obabel to convert to xyz format\n",
    "        subprocess.run(f'obabel {complex_id}_ligand.pdb -O {complex_id}_fragment.xyz', shell=True)\n",
    "        print(f'Converted ligand to xyz format and saved as {complex_id}_fragment.xyz.')\n",
    "    except Exception as e:\n",
    "        print(f'Error processing {complex_id}: {e}')\n",
    "        continue"
   ]
  },
  {
   "cell_type": "code",
   "execution_count": 7,
   "metadata": {},
   "outputs": [
    {
     "data": {
      "text/plain": [
       "['./mpro_ligands/Mpro-x0946_0_ligand.pdb',\n",
       " './mpro_ligands/Mpro-x2193_0_ligand.pdb',\n",
       " './mpro_ligands/Mpro-x1077_0_ligand.pdb',\n",
       " './mpro_ligands/Mpro-x0161_0_ligand.pdb',\n",
       " './mpro_ligands/Mpro-x0434_0_ligand.pdb',\n",
       " './mpro_ligands/Mpro-x0397_0_ligand.pdb',\n",
       " './mpro_ligands/Mpro-x0305_0_ligand.pdb',\n",
       " './mpro_ligands/Mpro-x1249_0_ligand.pdb',\n",
       " './mpro_ligands/Mpro-x0426_0_ligand.pdb',\n",
       " './mpro_ligands/Mpro-x0354_0_ligand.pdb',\n",
       " './mpro_ligands/Mpro-x1093_0_ligand.pdb',\n",
       " './mpro_ligands/Mpro-x0387_0_ligand.pdb',\n",
       " './mpro_ligands/Mpro-x0874_0_ligand.pdb',\n",
       " './mpro_ligands/Mpro-x0991_0_ligand.pdb',\n",
       " './mpro_ligands/Mpro-x0678_0_ligand.pdb',\n",
       " './mpro_ligands/Mpro-x0540_0_ligand.pdb',\n",
       " './mpro_ligands/Mpro-x0995_0_ligand.pdb',\n",
       " './mpro_ligands/Mpro-x0104_0_ligand.pdb',\n",
       " './mpro_ligands/Mpro-x0072_0_ligand.pdb',\n",
       " './mpro_ligands/Mpro-x0195_0_ligand.pdb',\n",
       " './mpro_ligands/Mpro-x0107_0_ligand.pdb',\n",
       " './mpro_ligands/Mpro-x0395_0_ligand.pdb',\n",
       " './mpro_ligands/Mpro-x0967_0_ligand.pdb']"
      ]
     },
     "execution_count": 7,
     "metadata": {},
     "output_type": "execute_result"
    }
   ],
   "source": [
    "import glob\n",
    "mpro_ligands = glob.glob('./mpro_ligands/*.pdb')\n",
    "mpro_ligands"
   ]
  },
  {
   "cell_type": "code",
   "execution_count": 12,
   "metadata": {},
   "outputs": [
    {
     "name": "stdout",
     "output_type": "stream",
     "text": [
      "./mpro_ligands/Mpro-x0946_0_ligand\n",
      "./mpro_ligands/Mpro-x2193_0_ligand\n",
      "./mpro_ligands/Mpro-x1077_0_ligand\n",
      "./mpro_ligands/Mpro-x0161_0_ligand\n",
      "./mpro_ligands/Mpro-x0434_0_ligand\n",
      "./mpro_ligands/Mpro-x0397_0_ligand\n",
      "./mpro_ligands/Mpro-x0305_0_ligand\n",
      "./mpro_ligands/Mpro-x1249_0_ligand\n",
      "./mpro_ligands/Mpro-x0426_0_ligand\n",
      "./mpro_ligands/Mpro-x0354_0_ligand\n",
      "./mpro_ligands/Mpro-x1093_0_ligand\n",
      "./mpro_ligands/Mpro-x0387_0_ligand\n",
      "./mpro_ligands/Mpro-x0874_0_ligand\n",
      "./mpro_ligands/Mpro-x0991_0_ligand\n",
      "./mpro_ligands/Mpro-x0678_0_ligand\n",
      "./mpro_ligands/Mpro-x0540_0_ligand\n",
      "./mpro_ligands/Mpro-x0995_0_ligand\n",
      "./mpro_ligands/Mpro-x0104_0_ligand\n",
      "./mpro_ligands/Mpro-x0072_0_ligand\n",
      "./mpro_ligands/Mpro-x0195_0_ligand\n",
      "./mpro_ligands/Mpro-x0107_0_ligand\n",
      "./mpro_ligands/Mpro-x0395_0_ligand\n",
      "./mpro_ligands/Mpro-x0967_0_ligand\n"
     ]
    }
   ],
   "source": [
    "for ligand in mpro_ligands:\n",
    "    ligand_name = ligand.rsplit('.', 1)[0]\n",
    "    print(ligand_name)"
   ]
  },
  {
   "cell_type": "markdown",
   "metadata": {},
   "source": [
    "# if you already have split your protein and ligands"
   ]
  },
  {
   "cell_type": "code",
   "execution_count": 5,
   "metadata": {},
   "outputs": [
    {
     "name": "stderr",
     "output_type": "stream",
     "text": [
      "==============================\n",
      "*** Open Babel Warning  in ReadMolecule\n",
      "  Failed to kekulize aromatic bonds in MOL file (title is obj01)\n",
      "\n",
      "1 molecule converted\n",
      "1 molecule converted\n"
     ]
    }
   ],
   "source": [
    "import glob\n",
    "ndm_1_ligands = glob.glob('./ndm_1_ligands/*.sdf')\n",
    "for ligand in ndm_1_ligands:\n",
    "    ligand_name = ligand.rsplit('.', 1)[0]\n",
    "    # use obabel to convert to xyz format\n",
    "    os.system(f'obabel {ligand} -O {ligand_name}_H_fragment.xyz -h')\n"
   ]
  }
 ],
 "metadata": {
  "kernelspec": {
   "display_name": "Python 3",
   "language": "python",
   "name": "python3"
  },
  "language_info": {
   "codemirror_mode": {
    "name": "ipython",
    "version": 3
   },
   "file_extension": ".py",
   "mimetype": "text/x-python",
   "name": "python",
   "nbconvert_exporter": "python",
   "pygments_lexer": "ipython3",
   "version": "3.10.14"
  }
 },
 "nbformat": 4,
 "nbformat_minor": 2
}
