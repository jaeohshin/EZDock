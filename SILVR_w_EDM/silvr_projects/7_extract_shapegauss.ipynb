{
 "cells": [
  {
   "cell_type": "markdown",
   "id": "067612cd",
   "metadata": {},
   "source": [
    "# Extract shapegauss results\n",
    "\n",
    "This notebook takes `data_optim.csv` (outputted by 5_extract_geometry_stabilities). This notebook then creates the new csv `data_all.csv` which contains all the results from this project neccessary to create the metrics figure."
   ]
  },
  {
   "cell_type": "code",
   "execution_count": 1,
   "id": "03139122",
   "metadata": {},
   "outputs": [],
   "source": [
    "import pandas as pd  \n",
    "import glob"
   ]
  },
  {
   "cell_type": "code",
   "execution_count": 14,
   "id": "e376115a",
   "metadata": {},
   "outputs": [],
   "source": [
    "# SILVR + EDM, fragments 0072 + 0107\n",
    "# experiment_names = ['exp_9','exp_10','exp_11','exp_12','exp_13','exp_14','exp_15']\n",
    "\n",
    "\n",
    "# BRIDGE + EDM, fragments 0072 + 0107\n",
    "# experiment_names = ['exp_16','exp_17','exp_18','exp_19','exp_20','exp_21','exp_22']\n",
    "# BRIDGE + EDM, fragments 0072 + 0107 (250 SAMPLES)\n",
    "# experiment_names = ['exp_23','exp_24','exp_25','exp_26','exp_27','exp_28','exp_29']\n",
    "\n",
    "# BRIDGE + EDM, fragments 0072 + 0107 (Explicit Hydrogens)\n",
    "experiment_names = ['exp_30','exp_31','exp_32','exp_33','exp_34','exp_35','exp_36']\n",
    "#TODO: Fix inconsistent naming of variables\n",
    "exp_names = experiment_names\n",
    "shapegauss_exp_list = [f\"shapegauss/{x}/\" for x in exp_names]#shapegauss\n",
    "experiment_path = \"experiments/\""
   ]
  },
  {
   "cell_type": "code",
   "execution_count": 15,
   "id": "a1d0936d",
   "metadata": {},
   "outputs": [],
   "source": [
    "shapegauss_results = []\n",
    "for path in shapegauss_exp_list:\n",
    "    shapegauss_mol_list = glob.glob(path+\"*.sdf\")\n",
    "    \n",
    "    for mol_path in shapegauss_mol_list:\n",
    "        mol_id = mol_path.split(\"/\")[-1].split(\".\")[0]\n",
    "        \n",
    "        with open(mol_path, \"r\") as readfile:\n",
    "            shapegauss_score = float(readfile.readlines()[-3])\n",
    "            shapegauss_results.append([mol_id,shapegauss_score])"
   ]
  },
  {
   "cell_type": "code",
   "execution_count": 15,
   "id": "1a89af60",
   "metadata": {},
   "outputs": [],
   "source": [
    "old_df = pd.read_csv(experiment_path+f\"{experiment_names[0]}_to_{experiment_names[-1]}_data_optim.csv\")\n",
    "shapegauss_results_df = pd.DataFrame(shapegauss_results, columns=[\"mol_id\", \"shapegauss\"]).set_index(\"mol_id\")\n",
    "df = pd.merge(old_df,shapegauss_results_df, on=\"mol_id\",how='left')\n",
    "df.to_csv(experiment_path+f\"{experiment_names[0]}_to_{experiment_names[-1]}_data_all.csv\",index=False)"
   ]
  },
  {
   "cell_type": "code",
   "execution_count": 16,
   "id": "ab755b0a",
   "metadata": {},
   "outputs": [
    {
     "data": {
      "text/html": [
       "<div>\n",
       "<style scoped>\n",
       "    .dataframe tbody tr th:only-of-type {\n",
       "        vertical-align: middle;\n",
       "    }\n",
       "\n",
       "    .dataframe tbody tr th {\n",
       "        vertical-align: top;\n",
       "    }\n",
       "\n",
       "    .dataframe thead th {\n",
       "        text-align: right;\n",
       "    }\n",
       "</style>\n",
       "<table border=\"1\" class=\"dataframe\">\n",
       "  <thead>\n",
       "    <tr style=\"text-align: right;\">\n",
       "      <th></th>\n",
       "      <th>shapegauss</th>\n",
       "    </tr>\n",
       "    <tr>\n",
       "      <th>mol_id</th>\n",
       "      <th></th>\n",
       "    </tr>\n",
       "  </thead>\n",
       "  <tbody>\n",
       "    <tr>\n",
       "      <th>mol_2024_07_10_1800131_000</th>\n",
       "      <td>-98.659134</td>\n",
       "    </tr>\n",
       "    <tr>\n",
       "      <th>mol_2024_07_10_1754523_000</th>\n",
       "      <td>-79.117661</td>\n",
       "    </tr>\n",
       "    <tr>\n",
       "      <th>mol_2024_07_10_1749093_000</th>\n",
       "      <td>-111.194305</td>\n",
       "    </tr>\n",
       "    <tr>\n",
       "      <th>mol_2024_07_10_1757000_000</th>\n",
       "      <td>-115.195648</td>\n",
       "    </tr>\n",
       "    <tr>\n",
       "      <th>mol_2024_07_10_1745590_000</th>\n",
       "      <td>-86.127708</td>\n",
       "    </tr>\n",
       "    <tr>\n",
       "      <th>...</th>\n",
       "      <td>...</td>\n",
       "    </tr>\n",
       "    <tr>\n",
       "      <th>mol_2024_07_10_2047213_000</th>\n",
       "      <td>-151.365387</td>\n",
       "    </tr>\n",
       "    <tr>\n",
       "      <th>mol_2024_07_10_2044152_000</th>\n",
       "      <td>-151.399445</td>\n",
       "    </tr>\n",
       "    <tr>\n",
       "      <th>mol_2024_07_10_2040111_000</th>\n",
       "      <td>-151.247574</td>\n",
       "    </tr>\n",
       "    <tr>\n",
       "      <th>mol_2024_07_10_2039161_000</th>\n",
       "      <td>-151.230255</td>\n",
       "    </tr>\n",
       "    <tr>\n",
       "      <th>mol_2024_07_10_2030343_000</th>\n",
       "      <td>-151.705795</td>\n",
       "    </tr>\n",
       "  </tbody>\n",
       "</table>\n",
       "<p>728 rows × 1 columns</p>\n",
       "</div>"
      ],
      "text/plain": [
       "                            shapegauss\n",
       "mol_id                                \n",
       "mol_2024_07_10_1800131_000  -98.659134\n",
       "mol_2024_07_10_1754523_000  -79.117661\n",
       "mol_2024_07_10_1749093_000 -111.194305\n",
       "mol_2024_07_10_1757000_000 -115.195648\n",
       "mol_2024_07_10_1745590_000  -86.127708\n",
       "...                                ...\n",
       "mol_2024_07_10_2047213_000 -151.365387\n",
       "mol_2024_07_10_2044152_000 -151.399445\n",
       "mol_2024_07_10_2040111_000 -151.247574\n",
       "mol_2024_07_10_2039161_000 -151.230255\n",
       "mol_2024_07_10_2030343_000 -151.705795\n",
       "\n",
       "[728 rows x 1 columns]"
      ]
     },
     "execution_count": 16,
     "metadata": {},
     "output_type": "execute_result"
    }
   ],
   "source": [
    "shapegauss_results_df"
   ]
  },
  {
   "cell_type": "code",
   "execution_count": null,
   "id": "6ee15979",
   "metadata": {},
   "outputs": [],
   "source": []
  }
 ],
 "metadata": {
  "kernelspec": {
   "display_name": "Python 3 (ipykernel)",
   "language": "python",
   "name": "python3"
  },
  "language_info": {
   "codemirror_mode": {
    "name": "ipython",
    "version": 3
   },
   "file_extension": ".py",
   "mimetype": "text/x-python",
   "name": "python",
   "nbconvert_exporter": "python",
   "pygments_lexer": "ipython3",
   "version": "3.10.14"
  }
 },
 "nbformat": 4,
 "nbformat_minor": 5
}
